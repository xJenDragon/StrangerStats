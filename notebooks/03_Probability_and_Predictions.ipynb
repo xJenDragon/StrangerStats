{
  "nbformat": 4,
  "nbformat_minor": 0,
  "metadata": {
    "colab": {
      "provenance": []
    },
    "kernelspec": {
      "name": "python3",
      "display_name": "Python 3"
    },
    "language_info": {
      "name": "python"
    }
  },
  "cells": [
    {
      "cell_type": "code",
      "execution_count": 34,
      "metadata": {
        "colab": {
          "base_uri": "https://localhost:8080/"
        },
        "id": "oJSGf3vFCw1S",
        "outputId": "929ffda2-0b99-4e50-90da-83f42fac303c"
      },
      "outputs": [
        {
          "output_type": "stream",
          "name": "stdout",
          "text": [
            "fatal: destination path 'StrangerStats' already exists and is not an empty directory.\n"
          ]
        }
      ],
      "source": [
        "!git clone https://github.com/xJenDragon/StrangerStats.git"
      ]
    },
    {
      "cell_type": "markdown",
      "source": [
        "# Stranger Stats: Probability & Predictions 🧪👾\n",
        "Welcome to **Stranger Stats**!  \n",
        "In this notebook, you will explore the Monster Sightings, Character Stats, and Upside Down Events datasets.\n",
        "\n",
        "We will:\n",
        "- Calculate probabilities of events (monsters, character activity, etc.)\n",
        "- Explore conditional probabilities\n",
        "- Visualize probabilities with bar charts\n",
        "- Experiment with parameters to make simple predictions\n"
      ],
      "metadata": {
        "id": "QOdfi9YlGqO8"
      }
    },
    {
      "cell_type": "markdown",
      "source": [
        "# Important Installs"
      ],
      "metadata": {
        "id": "oc43bLyjHbZC"
      }
    },
    {
      "cell_type": "code",
      "source": [
        "!python /content/StrangerStats/helper/install.py\n",
        "!pip install pandas"
      ],
      "metadata": {
        "colab": {
          "base_uri": "https://localhost:8080/"
        },
        "id": "6ZpNZefxHeaQ",
        "outputId": "c39193d9-ec65-42c0-aae1-cbfe303efa00"
      },
      "execution_count": 35,
      "outputs": [
        {
          "output_type": "stream",
          "name": "stdout",
          "text": [
            "Requirement already satisfied: pandas in /usr/local/lib/python3.12/dist-packages (2.2.2)\n",
            "Requirement already satisfied: numpy>=1.26.0 in /usr/local/lib/python3.12/dist-packages (from pandas) (2.0.2)\n",
            "Requirement already satisfied: python-dateutil>=2.8.2 in /usr/local/lib/python3.12/dist-packages (from pandas) (2.9.0.post0)\n",
            "Requirement already satisfied: pytz>=2020.1 in /usr/local/lib/python3.12/dist-packages (from pandas) (2025.2)\n",
            "Requirement already satisfied: tzdata>=2022.7 in /usr/local/lib/python3.12/dist-packages (from pandas) (2025.2)\n",
            "Requirement already satisfied: six>=1.5 in /usr/local/lib/python3.12/dist-packages (from python-dateutil>=2.8.2->pandas) (1.17.0)\n",
            "Requirement already satisfied: numpy in /usr/local/lib/python3.12/dist-packages (2.0.2)\n",
            "Requirement already satisfied: matplotlib in /usr/local/lib/python3.12/dist-packages (3.10.0)\n",
            "Requirement already satisfied: contourpy>=1.0.1 in /usr/local/lib/python3.12/dist-packages (from matplotlib) (1.3.3)\n",
            "Requirement already satisfied: cycler>=0.10 in /usr/local/lib/python3.12/dist-packages (from matplotlib) (0.12.1)\n",
            "Requirement already satisfied: fonttools>=4.22.0 in /usr/local/lib/python3.12/dist-packages (from matplotlib) (4.59.2)\n",
            "Requirement already satisfied: kiwisolver>=1.3.1 in /usr/local/lib/python3.12/dist-packages (from matplotlib) (1.4.9)\n",
            "Requirement already satisfied: numpy>=1.23 in /usr/local/lib/python3.12/dist-packages (from matplotlib) (2.0.2)\n",
            "Requirement already satisfied: packaging>=20.0 in /usr/local/lib/python3.12/dist-packages (from matplotlib) (25.0)\n",
            "Requirement already satisfied: pillow>=8 in /usr/local/lib/python3.12/dist-packages (from matplotlib) (11.3.0)\n",
            "Requirement already satisfied: pyparsing>=2.3.1 in /usr/local/lib/python3.12/dist-packages (from matplotlib) (3.2.3)\n",
            "Requirement already satisfied: python-dateutil>=2.7 in /usr/local/lib/python3.12/dist-packages (from matplotlib) (2.9.0.post0)\n",
            "Requirement already satisfied: six>=1.5 in /usr/local/lib/python3.12/dist-packages (from python-dateutil>=2.7->matplotlib) (1.17.0)\n",
            "Requirement already satisfied: seaborn in /usr/local/lib/python3.12/dist-packages (0.13.2)\n",
            "Requirement already satisfied: numpy!=1.24.0,>=1.20 in /usr/local/lib/python3.12/dist-packages (from seaborn) (2.0.2)\n",
            "Requirement already satisfied: pandas>=1.2 in /usr/local/lib/python3.12/dist-packages (from seaborn) (2.2.2)\n",
            "Requirement already satisfied: matplotlib!=3.6.1,>=3.4 in /usr/local/lib/python3.12/dist-packages (from seaborn) (3.10.0)\n",
            "Requirement already satisfied: contourpy>=1.0.1 in /usr/local/lib/python3.12/dist-packages (from matplotlib!=3.6.1,>=3.4->seaborn) (1.3.3)\n",
            "Requirement already satisfied: cycler>=0.10 in /usr/local/lib/python3.12/dist-packages (from matplotlib!=3.6.1,>=3.4->seaborn) (0.12.1)\n",
            "Requirement already satisfied: fonttools>=4.22.0 in /usr/local/lib/python3.12/dist-packages (from matplotlib!=3.6.1,>=3.4->seaborn) (4.59.2)\n",
            "Requirement already satisfied: kiwisolver>=1.3.1 in /usr/local/lib/python3.12/dist-packages (from matplotlib!=3.6.1,>=3.4->seaborn) (1.4.9)\n",
            "Requirement already satisfied: packaging>=20.0 in /usr/local/lib/python3.12/dist-packages (from matplotlib!=3.6.1,>=3.4->seaborn) (25.0)\n",
            "Requirement already satisfied: pillow>=8 in /usr/local/lib/python3.12/dist-packages (from matplotlib!=3.6.1,>=3.4->seaborn) (11.3.0)\n",
            "Requirement already satisfied: pyparsing>=2.3.1 in /usr/local/lib/python3.12/dist-packages (from matplotlib!=3.6.1,>=3.4->seaborn) (3.2.3)\n",
            "Requirement already satisfied: python-dateutil>=2.7 in /usr/local/lib/python3.12/dist-packages (from matplotlib!=3.6.1,>=3.4->seaborn) (2.9.0.post0)\n",
            "Requirement already satisfied: pytz>=2020.1 in /usr/local/lib/python3.12/dist-packages (from pandas>=1.2->seaborn) (2025.2)\n",
            "Requirement already satisfied: tzdata>=2022.7 in /usr/local/lib/python3.12/dist-packages (from pandas>=1.2->seaborn) (2025.2)\n",
            "Requirement already satisfied: six>=1.5 in /usr/local/lib/python3.12/dist-packages (from python-dateutil>=2.7->matplotlib!=3.6.1,>=3.4->seaborn) (1.17.0)\n",
            "Requirement already satisfied: scikit-learn in /usr/local/lib/python3.12/dist-packages (1.6.1)\n",
            "Requirement already satisfied: numpy>=1.19.5 in /usr/local/lib/python3.12/dist-packages (from scikit-learn) (2.0.2)\n",
            "Requirement already satisfied: scipy>=1.6.0 in /usr/local/lib/python3.12/dist-packages (from scikit-learn) (1.16.1)\n",
            "Requirement already satisfied: joblib>=1.2.0 in /usr/local/lib/python3.12/dist-packages (from scikit-learn) (1.5.2)\n",
            "Requirement already satisfied: threadpoolctl>=3.1.0 in /usr/local/lib/python3.12/dist-packages (from scikit-learn) (3.6.0)\n",
            "Requirement already satisfied: openpyxl in /usr/local/lib/python3.12/dist-packages (3.1.5)\n",
            "Requirement already satisfied: et-xmlfile in /usr/local/lib/python3.12/dist-packages (from openpyxl) (2.0.0)\n",
            "Requirement already satisfied: pandas in /usr/local/lib/python3.12/dist-packages (2.2.2)\n",
            "Requirement already satisfied: numpy>=1.26.0 in /usr/local/lib/python3.12/dist-packages (from pandas) (2.0.2)\n",
            "Requirement already satisfied: python-dateutil>=2.8.2 in /usr/local/lib/python3.12/dist-packages (from pandas) (2.9.0.post0)\n",
            "Requirement already satisfied: pytz>=2020.1 in /usr/local/lib/python3.12/dist-packages (from pandas) (2025.2)\n",
            "Requirement already satisfied: tzdata>=2022.7 in /usr/local/lib/python3.12/dist-packages (from pandas) (2025.2)\n",
            "Requirement already satisfied: six>=1.5 in /usr/local/lib/python3.12/dist-packages (from python-dateutil>=2.8.2->pandas) (1.17.0)\n"
          ]
        }
      ]
    },
    {
      "cell_type": "markdown",
      "source": [
        "# 1. Loading the Data 📂\n",
        "We’ll start by loading the datasets using our helper functions."
      ],
      "metadata": {
        "id": "jF2YTJoVHgkz"
      }
    },
    {
      "cell_type": "code",
      "source": [
        "# Add helper folder to sys.path\n",
        "import sys\n",
        "sys.path.append(\"/content/StrangerStats/helper\")\n",
        "\n",
        "# Import and reload\n",
        "import data_loader as dl\n",
        "import analysis as an\n",
        "import viz as vz\n",
        "import pandas as pd\n",
        "import importlib\n",
        "importlib.reload(dl)\n",
        "\n",
        "# Path to your Excel file\n",
        "DATA_FILE = \"/content/StrangerStats/data/stranger_stats.xlsx\"\n",
        "\n",
        "# Load data\n",
        "monster_df = dl.load_monster_sightings(DATA_FILE)\n",
        "char_df = dl.load_character_stats(DATA_FILE)\n",
        "events_df = dl.load_upside_down_events(DATA_FILE)"
      ],
      "metadata": {
        "id": "BkoX7UhxHlY3"
      },
      "execution_count": 36,
      "outputs": []
    },
    {
      "cell_type": "markdown",
      "source": [
        "# 2. Monster Sightings 👹\n",
        "\n",
        "Calculate the probability of seeing each monster."
      ],
      "metadata": {
        "id": "cfq5RFkAHomG"
      }
    },
    {
      "cell_type": "code",
      "source": [
        "# Count occurrences and normalize to get probabilities\n",
        "monster_probs = monster_df[\"Monster\"].value_counts(normalize=True)\n",
        "\n",
        "# Display probabilities\n",
        "print(\"Probability of encountering each monster:\")\n",
        "print(monster_probs)"
      ],
      "metadata": {
        "colab": {
          "base_uri": "https://localhost:8080/"
        },
        "id": "xP-KY3N_IHeW",
        "outputId": "9ab2bb8d-7d7f-48fa-c25a-e56ce2bde49a"
      },
      "execution_count": 37,
      "outputs": [
        {
          "output_type": "stream",
          "name": "stdout",
          "text": [
            "Probability of encountering each monster:\n",
            "Monster\n",
            "Demodog        0.37\n",
            "Demogorgon     0.35\n",
            "Mind Flayer    0.28\n",
            "Name: proportion, dtype: float64\n"
          ]
        }
      ]
    },
    {
      "cell_type": "markdown",
      "source": [
        "# 3. Character Stats 🧍‍♂️🧍‍♀️\n",
        "\n",
        "Identify the hours or locations with the highest activity."
      ],
      "metadata": {
        "id": "5zuGFS31Iacp"
      }
    },
    {
      "cell_type": "code",
      "source": [
        "# Converting time on sheet to hour\n",
        "char_df[\"Hour\"] = char_df[\"Time\"].apply(lambda t: t.hour if pd.notnull(t) else None)\n",
        "char_df = char_df.dropna(subset=[\"Hour\"])\n",
        "char_df[\"Hour\"] = char_df[\"Hour\"].astype(int)\n",
        "\n",
        "# Probability of character being in each location\n",
        "char_location_probs = char_df[\"Location\"].value_counts(normalize=True)\n",
        "\n",
        "# Probability by hour\n",
        "hour_probs = char_df[\"Hour\"].value_counts(normalize=True).sort_index()\n",
        "\n",
        "print(\"Probability of character being in each location:\")\n",
        "print(char_location_probs)\n",
        "\n",
        "print(\"\\nProbability of character being at each hour:\")\n",
        "print(hour_probs)"
      ],
      "metadata": {
        "colab": {
          "base_uri": "https://localhost:8080/"
        },
        "id": "ThOyo2wiIesR",
        "outputId": "b84c448e-1d41-4536-bcd9-1d188c424905"
      },
      "execution_count": 38,
      "outputs": [
        {
          "output_type": "stream",
          "name": "stdout",
          "text": [
            "Probability of character being in each location:\n",
            "Location\n",
            "School         0.23\n",
            "Forest         0.21\n",
            "Downtown       0.21\n",
            "Hospital       0.20\n",
            "Hawkins Lab    0.15\n",
            "Name: proportion, dtype: float64\n",
            "\n",
            "Probability of character being at each hour:\n",
            "Hour\n",
            "0     0.03\n",
            "1     0.04\n",
            "2     0.04\n",
            "3     0.04\n",
            "4     0.04\n",
            "5     0.05\n",
            "6     0.05\n",
            "7     0.05\n",
            "8     0.06\n",
            "9     0.07\n",
            "10    0.06\n",
            "11    0.05\n",
            "12    0.05\n",
            "13    0.02\n",
            "14    0.05\n",
            "15    0.03\n",
            "16    0.04\n",
            "17    0.03\n",
            "18    0.04\n",
            "19    0.05\n",
            "20    0.04\n",
            "21    0.02\n",
            "22    0.03\n",
            "23    0.02\n",
            "Name: proportion, dtype: float64\n"
          ]
        }
      ]
    },
    {
      "cell_type": "markdown",
      "source": [
        "# 4. Upside Down Events 👾\n",
        "Explore probabilities and patterns in Upside Down events."
      ],
      "metadata": {
        "id": "Rcz2OexQI3s_"
      }
    },
    {
      "cell_type": "code",
      "source": [
        "# Map severity to numeric for probability calculations\n",
        "severity_map = {\"Low\": 1, \"Medium\": 2, \"High\": 3}\n",
        "events_df[\"Severity_Num\"] = events_df[\"Severity\"].map(severity_map)\n",
        "\n",
        "# Drop rows with missing severity\n",
        "events_df = events_df.dropna(subset=[\"Severity_Num\"])\n",
        "\n",
        "# Probability of each monster appearing in Upside Down events\n",
        "upside_monster_probs = events_df[\"Monster\"].value_counts(normalize=True)\n",
        "print(\"Probability of each monster in Upside Down events:\")\n",
        "print(upside_monster_probs)"
      ],
      "metadata": {
        "colab": {
          "base_uri": "https://localhost:8080/"
        },
        "id": "tP-rU3W5JK6A",
        "outputId": "ac2c0bde-a064-46fd-97f5-71003d495f8b"
      },
      "execution_count": 39,
      "outputs": [
        {
          "output_type": "stream",
          "name": "stdout",
          "text": [
            "Probability of each monster in Upside Down events:\n",
            "Monster\n",
            "Demogorgon     0.343284\n",
            "Mind Flayer    0.328358\n",
            "Demodog        0.328358\n",
            "Name: proportion, dtype: float64\n"
          ]
        }
      ]
    },
    {
      "cell_type": "markdown",
      "source": [
        "# 5. Visualizations 📊\n",
        "\n",
        "Plot bar charts to better understand the data.\n"
      ],
      "metadata": {
        "id": "pgUqK7ObLTUD"
      }
    },
    {
      "cell_type": "code",
      "source": [
        "import matplotlib.pyplot as plt\n",
        "\n",
        "# Bar chart of monster probabilities\n",
        "upside_monster_probs.plot(kind=\"bar\", color=\"blue\", title=\"Probability of Each Monster Appearing in Upside Down\")\n",
        "plt.ylabel(\"Probability\")\n",
        "plt.xlabel(\"Monster\")\n",
        "plt.show()"
      ],
      "metadata": {
        "colab": {
          "base_uri": "https://localhost:8080/",
          "height": 548
        },
        "id": "BIfO444sLSzL",
        "outputId": "b1f57d62-da98-48f3-c5a4-e88f92d63d99"
      },
      "execution_count": 40,
      "outputs": [
        {
          "output_type": "display_data",
          "data": {
            "text/plain": [
              "<Figure size 640x480 with 1 Axes>"
            ],
            "image/png": "[encoded data removed]"
          },
          "metadata": {}
        }
      ]
    },
    {
      "cell_type": "markdown",
      "source": [
        "# 6. Challenge: Experiment Here 🕵️‍♂️\n",
        "\n",
        "Try the exercises and explore data on your own!"
      ],
      "metadata": {
        "id": "EaovwrqcLVjO"
      }
    },
    {
      "cell_type": "code",
      "source": [
        "# Challenge 1: Identify the Riskiest Monster\n",
        "\n",
        "# Probability of High severity per monster\n",
        "\n",
        "# Most risky monster\n"
      ],
      "metadata": {
        "id": "5c3nKr3-LZDd"
      },
      "execution_count": 44,
      "outputs": []
    },
    {
      "cell_type": "code",
      "source": [
        "# Challenge 2: Conditional Probability Exploration\n",
        "\n",
        "# Probability of Medium severity per monster\n",
        "\n",
        "# Probability of Low severity per monster\n"
      ],
      "metadata": {
        "id": "CH3ZPfmDMlQQ"
      },
      "execution_count": 45,
      "outputs": []
    },
    {
      "cell_type": "code",
      "source": [
        "# Challenge 3: Parameter Tweaking\n",
        "\n",
        "# Example: filter for weekend events (Saturday & Sunday)\n",
        "\n",
        "# Probability of High severity on weekend\n"
      ],
      "metadata": {
        "id": "jX58GcZcMsMK"
      },
      "execution_count": 46,
      "outputs": []
    }
  ]
}