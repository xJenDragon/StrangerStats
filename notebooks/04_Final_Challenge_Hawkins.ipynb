{
  "nbformat": 4,
  "nbformat_minor": 0,
  "metadata": {
    "colab": {
      "provenance": []
    },
    "kernelspec": {
      "name": "python3",
      "display_name": "Python 3"
    },
    "language_info": {
      "name": "python"
    }
  },
  "cells": [
    {
      "cell_type": "code",
      "execution_count": 7,
      "metadata": {
        "colab": {
          "base_uri": "https://localhost:8080/"
        },
        "id": "2D3SiwwuP6Ni",
        "outputId": "4b9e354e-06cc-4748-e487-2f41710af9d4"
      },
      "outputs": [
        {
          "output_type": "stream",
          "name": "stdout",
          "text": [
            "fatal: destination path 'StrangerStats' already exists and is not an empty directory.\n"
          ]
        }
      ],
      "source": [
        "!git clone https://github.com/xJenDragon/StrangerStats.git"
      ]
    },
    {
      "cell_type": "markdown",
      "source": [
        "# Stranger Stats: The Hawkins Mystery 🧪👾"
      ],
      "metadata": {
        "id": "xL6KjuJCUwpd"
      }
    },
    {
      "cell_type": "markdown",
      "source": [
        "# Important Installs"
      ],
      "metadata": {
        "id": "vXzpY12iVBT7"
      }
    },
    {
      "cell_type": "code",
      "source": [
        "!python /content/StrangerStats/helper/install.py\n",
        "!pip install pandas"
      ],
      "metadata": {
        "colab": {
          "base_uri": "https://localhost:8080/"
        },
        "id": "_wwsOIy6VHc4",
        "outputId": "bac481d6-f0aa-4eef-bd5f-bd344e3428d5"
      },
      "execution_count": 8,
      "outputs": [
        {
          "output_type": "stream",
          "name": "stdout",
          "text": [
            "Requirement already satisfied: pandas in /usr/local/lib/python3.12/dist-packages (2.2.2)\n",
            "Requirement already satisfied: numpy>=1.26.0 in /usr/local/lib/python3.12/dist-packages (from pandas) (2.0.2)\n",
            "Requirement already satisfied: python-dateutil>=2.8.2 in /usr/local/lib/python3.12/dist-packages (from pandas) (2.9.0.post0)\n",
            "Requirement already satisfied: pytz>=2020.1 in /usr/local/lib/python3.12/dist-packages (from pandas) (2025.2)\n",
            "Requirement already satisfied: tzdata>=2022.7 in /usr/local/lib/python3.12/dist-packages (from pandas) (2025.2)\n",
            "Requirement already satisfied: six>=1.5 in /usr/local/lib/python3.12/dist-packages (from python-dateutil>=2.8.2->pandas) (1.17.0)\n",
            "Requirement already satisfied: numpy in /usr/local/lib/python3.12/dist-packages (2.0.2)\n",
            "Requirement already satisfied: matplotlib in /usr/local/lib/python3.12/dist-packages (3.10.0)\n",
            "Requirement already satisfied: contourpy>=1.0.1 in /usr/local/lib/python3.12/dist-packages (from matplotlib) (1.3.3)\n",
            "Requirement already satisfied: cycler>=0.10 in /usr/local/lib/python3.12/dist-packages (from matplotlib) (0.12.1)\n",
            "Requirement already satisfied: fonttools>=4.22.0 in /usr/local/lib/python3.12/dist-packages (from matplotlib) (4.59.2)\n",
            "Requirement already satisfied: kiwisolver>=1.3.1 in /usr/local/lib/python3.12/dist-packages (from matplotlib) (1.4.9)\n",
            "Requirement already satisfied: numpy>=1.23 in /usr/local/lib/python3.12/dist-packages (from matplotlib) (2.0.2)\n",
            "Requirement already satisfied: packaging>=20.0 in /usr/local/lib/python3.12/dist-packages (from matplotlib) (25.0)\n",
            "Requirement already satisfied: pillow>=8 in /usr/local/lib/python3.12/dist-packages (from matplotlib) (11.3.0)\n",
            "Requirement already satisfied: pyparsing>=2.3.1 in /usr/local/lib/python3.12/dist-packages (from matplotlib) (3.2.3)\n",
            "Requirement already satisfied: python-dateutil>=2.7 in /usr/local/lib/python3.12/dist-packages (from matplotlib) (2.9.0.post0)\n",
            "Requirement already satisfied: six>=1.5 in /usr/local/lib/python3.12/dist-packages (from python-dateutil>=2.7->matplotlib) (1.17.0)\n",
            "Requirement already satisfied: seaborn in /usr/local/lib/python3.12/dist-packages (0.13.2)\n",
            "Requirement already satisfied: numpy!=1.24.0,>=1.20 in /usr/local/lib/python3.12/dist-packages (from seaborn) (2.0.2)\n",
            "Requirement already satisfied: pandas>=1.2 in /usr/local/lib/python3.12/dist-packages (from seaborn) (2.2.2)\n",
            "Requirement already satisfied: matplotlib!=3.6.1,>=3.4 in /usr/local/lib/python3.12/dist-packages (from seaborn) (3.10.0)\n",
            "Requirement already satisfied: contourpy>=1.0.1 in /usr/local/lib/python3.12/dist-packages (from matplotlib!=3.6.1,>=3.4->seaborn) (1.3.3)\n",
            "Requirement already satisfied: cycler>=0.10 in /usr/local/lib/python3.12/dist-packages (from matplotlib!=3.6.1,>=3.4->seaborn) (0.12.1)\n",
            "Requirement already satisfied: fonttools>=4.22.0 in /usr/local/lib/python3.12/dist-packages (from matplotlib!=3.6.1,>=3.4->seaborn) (4.59.2)\n",
            "Requirement already satisfied: kiwisolver>=1.3.1 in /usr/local/lib/python3.12/dist-packages (from matplotlib!=3.6.1,>=3.4->seaborn) (1.4.9)\n",
            "Requirement already satisfied: packaging>=20.0 in /usr/local/lib/python3.12/dist-packages (from matplotlib!=3.6.1,>=3.4->seaborn) (25.0)\n",
            "Requirement already satisfied: pillow>=8 in /usr/local/lib/python3.12/dist-packages (from matplotlib!=3.6.1,>=3.4->seaborn) (11.3.0)\n",
            "Requirement already satisfied: pyparsing>=2.3.1 in /usr/local/lib/python3.12/dist-packages (from matplotlib!=3.6.1,>=3.4->seaborn) (3.2.3)\n",
            "Requirement already satisfied: python-dateutil>=2.7 in /usr/local/lib/python3.12/dist-packages (from matplotlib!=3.6.1,>=3.4->seaborn) (2.9.0.post0)\n",
            "Requirement already satisfied: pytz>=2020.1 in /usr/local/lib/python3.12/dist-packages (from pandas>=1.2->seaborn) (2025.2)\n",
            "Requirement already satisfied: tzdata>=2022.7 in /usr/local/lib/python3.12/dist-packages (from pandas>=1.2->seaborn) (2025.2)\n",
            "Requirement already satisfied: six>=1.5 in /usr/local/lib/python3.12/dist-packages (from python-dateutil>=2.7->matplotlib!=3.6.1,>=3.4->seaborn) (1.17.0)\n",
            "Requirement already satisfied: scikit-learn in /usr/local/lib/python3.12/dist-packages (1.6.1)\n",
            "Requirement already satisfied: numpy>=1.19.5 in /usr/local/lib/python3.12/dist-packages (from scikit-learn) (2.0.2)\n",
            "Requirement already satisfied: scipy>=1.6.0 in /usr/local/lib/python3.12/dist-packages (from scikit-learn) (1.16.1)\n",
            "Requirement already satisfied: joblib>=1.2.0 in /usr/local/lib/python3.12/dist-packages (from scikit-learn) (1.5.2)\n",
            "Requirement already satisfied: threadpoolctl>=3.1.0 in /usr/local/lib/python3.12/dist-packages (from scikit-learn) (3.6.0)\n",
            "Requirement already satisfied: openpyxl in /usr/local/lib/python3.12/dist-packages (3.1.5)\n",
            "Requirement already satisfied: et-xmlfile in /usr/local/lib/python3.12/dist-packages (from openpyxl) (2.0.0)\n",
            "Requirement already satisfied: pandas in /usr/local/lib/python3.12/dist-packages (2.2.2)\n",
            "Requirement already satisfied: numpy>=1.26.0 in /usr/local/lib/python3.12/dist-packages (from pandas) (2.0.2)\n",
            "Requirement already satisfied: python-dateutil>=2.8.2 in /usr/local/lib/python3.12/dist-packages (from pandas) (2.9.0.post0)\n",
            "Requirement already satisfied: pytz>=2020.1 in /usr/local/lib/python3.12/dist-packages (from pandas) (2025.2)\n",
            "Requirement already satisfied: tzdata>=2022.7 in /usr/local/lib/python3.12/dist-packages (from pandas) (2025.2)\n",
            "Requirement already satisfied: six>=1.5 in /usr/local/lib/python3.12/dist-packages (from python-dateutil>=2.8.2->pandas) (1.17.0)\n"
          ]
        }
      ]
    },
    {
      "cell_type": "markdown",
      "source": [
        "# 1. Loading the Data 📂\n",
        "We’ll start by loading the datasets using our helper functions."
      ],
      "metadata": {
        "id": "C5TXb-zaVJ_7"
      }
    },
    {
      "cell_type": "code",
      "source": [
        "# Add helper folder to sys.path\n",
        "import sys\n",
        "sys.path.append(\"/content/StrangerStats/helper\")\n",
        "\n",
        "# Import and reload\n",
        "import data_loader as dl\n",
        "import analysis as an\n",
        "import viz as vz\n",
        "import pandas as pd\n",
        "import importlib\n",
        "importlib.reload(dl)\n",
        "\n",
        "# Path to your Excel file\n",
        "DATA_FILE = \"/content/StrangerStats/data/stranger_stats.xlsx\"\n",
        "\n",
        "# Load data\n",
        "monster_df = dl.load_monster_sightings(DATA_FILE)\n",
        "char_df = dl.load_character_stats(DATA_FILE)\n",
        "events_df = dl.load_upside_down_events(DATA_FILE)"
      ],
      "metadata": {
        "id": "i-RA158YVM5U"
      },
      "execution_count": 9,
      "outputs": []
    },
    {
      "cell_type": "markdown",
      "source": [
        "# 2. Helpers for Data 🙋\n",
        "Providing some helpers for time conversion, severity conversion, etc."
      ],
      "metadata": {
        "id": "H7mInImsVU05"
      }
    },
    {
      "cell_type": "code",
      "source": [
        "# Converting Time columns to hours for easier merging\n",
        "char_df[\"Hour\"] = char_df[\"Time\"].apply(lambda t: t.hour if pd.notnull(t) else None)\n",
        "char_df = char_df.dropna(subset=[\"Hour\"])\n",
        "char_df[\"Hour\"] = char_df[\"Hour\"].astype(int)\n",
        "\n",
        "events_df[\"Hour\"] = events_df[\"Time\"].apply(lambda t: t.hour if pd.notnull(t) else None)\n",
        "events_df = events_df.dropna(subset=[\"Hour\"])\n",
        "events_df[\"Hour\"] = events_df[\"Hour\"].astype(int)\n",
        "\n",
        "# Map Severity to numeric\n",
        "severity_map = {\"Low\": 1, \"Medium\": 2, \"High\": 3}\n",
        "events_df[\"Severity_Num\"] = events_df[\"Severity\"].map(severity_map)"
      ],
      "metadata": {
        "id": "usi54tL3V2xE"
      },
      "execution_count": 10,
      "outputs": []
    },
    {
      "cell_type": "markdown",
      "source": [
        "# 3. The Hawkins Mystery ☎️"
      ],
      "metadata": {
        "id": "SIQijc-nV-L_"
      }
    },
    {
      "cell_type": "markdown",
      "source": [
        "### Challenge 1: Which character is most likely to encounter a monster?\n",
        "\n",
        "**Instructions:**  \n",
        "- Merge the Monster Sightings and Character Stats datasets by `Day` and `Hour`.  \n",
        "- Count how many times each character appears when a monster is present.  \n",
        "- Sort to find the character most likely to encounter a monster.\n",
        "\n",
        "**Hints:**  \n",
        "- Use `pd.merge()` with `on=[\"Day\",\"Hour\"]`.  \n",
        "- Use `groupby()` and `count()` to aggregate.\n"
      ],
      "metadata": {
        "id": "Ye6EoCHaWUKU"
      }
    },
    {
      "cell_type": "code",
      "source": [],
      "metadata": {
        "id": "ku1VhSGjWRRS"
      },
      "execution_count": 10,
      "outputs": []
    },
    {
      "cell_type": "markdown",
      "source": [
        "### Challenge 2: Which day/hour is the most dangerous overall?\n",
        "\n",
        "**Instructions:**  \n",
        "- Combine monster counts and Upside Down event severity.  \n",
        "- Create a \"danger score\" (monster count × severity).  \n",
        "- Identify the day/hour with the highest danger score.\n",
        "\n",
        "**Hints:**  \n",
        "- Use `groupby([\"Day\",\"Hour\"]).agg(...)`.  \n",
        "- Sort the results with `sort_values()`."
      ],
      "metadata": {
        "id": "zPufWtkYWbwg"
      }
    },
    {
      "cell_type": "code",
      "source": [],
      "metadata": {
        "id": "mqmp9yhNWltf"
      },
      "execution_count": 10,
      "outputs": []
    },
    {
      "cell_type": "markdown",
      "source": [
        "### Challenge 3: Does monster count correlate with Upside Down severity?\n",
        "\n",
        "**Instructions:**  \n",
        "- Measure correlation between monster counts and severity.\n",
        "- Which monsters tend to cause more severe events?\n",
        "\n",
        "**Hints:**  \n",
        "- Use `corr()` to compute Pearson correlation.  \n",
        "- Filter datasets if needed."
      ],
      "metadata": {
        "id": "h_W8-YNCWhrr"
      }
    },
    {
      "cell_type": "code",
      "source": [],
      "metadata": {
        "id": "-qWW8xJ6Xdqy"
      },
      "execution_count": 10,
      "outputs": []
    },
    {
      "cell_type": "markdown",
      "source": [
        "### Challenge 4: Which monster is most likely to appear next?\n",
        "\n",
        "**Instructions:**  \n",
        "- Calculate probability of each monster appearing next.\n",
        "- Use historical monster sightings.\n",
        "\n",
        "**Hints:**  \n",
        "- Use `value_counts(normalize=True)` to get probabilities."
      ],
      "metadata": {
        "id": "0TZOu-qgXeRC"
      }
    },
    {
      "cell_type": "code",
      "source": [],
      "metadata": {
        "id": "doir-01eXxsB"
      },
      "execution_count": 10,
      "outputs": []
    },
    {
      "cell_type": "markdown",
      "source": [
        "### Challenge 5: Probability of High severity for next monster event.\n",
        "\n",
        "**Instructions:**  \n",
        "- Calculate `P(High severity | Monster).`\n",
        "- Optional: filter by day or location.\n",
        "\n",
        "**Hints:**  \n",
        "- Use g`roupby(\"Monster\")[\"Severity\"].apply(lambda x: (x==\"High\").mean()).`\n",
        "- Round probabilities for readability."
      ],
      "metadata": {
        "id": "gYXqLlvoXzcg"
      }
    },
    {
      "cell_type": "code",
      "source": [],
      "metadata": {
        "id": "fxNwTYVWYPjf"
      },
      "execution_count": 10,
      "outputs": []
    },
    {
      "cell_type": "markdown",
      "source": [
        "### Challenge 6: Character activity vs monster peaks\n",
        "\n",
        "**Instructions:**  \n",
        "- Merge datasets by hour.\n",
        "- Create a heatmap showing which characters are active when monsters appear.\n",
        "\n",
        "**Hints:**  \n",
        "- Use `groupby([\"Hour\",\"Character\"])[\"Monster\"].count().unstack(fill_value=0).`\n",
        "- Use `sns.heatmap()` for visualization."
      ],
      "metadata": {
        "id": "9vm8IAy2YP9x"
      }
    },
    {
      "cell_type": "code",
      "source": [],
      "metadata": {
        "id": "DO0oyzOyYiFL"
      },
      "execution_count": 10,
      "outputs": []
    }
  ]
}