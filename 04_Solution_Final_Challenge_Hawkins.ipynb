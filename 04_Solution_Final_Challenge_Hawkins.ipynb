{
  "nbformat": 4,
  "nbformat_minor": 0,
  "metadata": {
    "colab": {
      "provenance": []
    },
    "kernelspec": {
      "name": "python3",
      "display_name": "Python 3"
    },
    "language_info": {
      "name": "python"
    }
  },
  "cells": [
    {
      "cell_type": "code",
      "execution_count": null,
      "metadata": {
        "colab": {
          "base_uri": "https://localhost:8080/"
        },
        "id": "2D3SiwwuP6Ni",
        "outputId": "52777980-1ab6-4757-8599-1ffdbc9d6353"
      },
      "outputs": [
        {
          "output_type": "stream",
          "name": "stdout",
          "text": [
            "Cloning into 'StrangerStats'...\n",
            "remote: Enumerating objects: 113, done.\u001b[K\n",
            "remote: Counting objects: 100% (113/113), done.\u001b[K\n",
            "remote: Compressing objects: 100% (100/100), done.\u001b[K\n",
            "remote: Total 113 (delta 55), reused 18 (delta 6), pack-reused 0 (from 0)\u001b[K\n",
            "Receiving objects: 100% (113/113), 2.91 MiB | 7.41 MiB/s, done.\n",
            "Resolving deltas: 100% (55/55), done.\n"
          ]
        }
      ],
      "source": [
        "!git clone https://github.com/xJenDragon/StrangerStats.git"
      ]
    },
    {
      "cell_type": "markdown",
      "source": [
        "# Stranger Stats: The Hawkins Mystery 🧪👾"
      ],
      "metadata": {
        "id": "xL6KjuJCUwpd"
      }
    },
    {
      "cell_type": "markdown",
      "source": [
        "# Important Installs"
      ],
      "metadata": {
        "id": "vXzpY12iVBT7"
      }
    },
    {
      "cell_type": "code",
      "source": [
        "!python /content/StrangerStats/helper/install.py\n",
        "!pip install pandas"
      ],
      "metadata": {
        "colab": {
          "base_uri": "https://localhost:8080/"
        },
        "id": "_wwsOIy6VHc4",
        "outputId": "4eb4eff7-e059-4cc1-e91b-05d2a201f6d1"
      },
      "execution_count": null,
      "outputs": [
        {
          "output_type": "stream",
          "name": "stdout",
          "text": [
            "Requirement already satisfied: pandas in /usr/local/lib/python3.12/dist-packages (2.2.2)\n",
            "Requirement already satisfied: numpy>=1.26.0 in /usr/local/lib/python3.12/dist-packages (from pandas) (2.0.2)\n",
            "Requirement already satisfied: python-dateutil>=2.8.2 in /usr/local/lib/python3.12/dist-packages (from pandas) (2.9.0.post0)\n",
            "Requirement already satisfied: pytz>=2020.1 in /usr/local/lib/python3.12/dist-packages (from pandas) (2025.2)\n",
            "Requirement already satisfied: tzdata>=2022.7 in /usr/local/lib/python3.12/dist-packages (from pandas) (2025.2)\n",
            "Requirement already satisfied: six>=1.5 in /usr/local/lib/python3.12/dist-packages (from python-dateutil>=2.8.2->pandas) (1.17.0)\n",
            "Requirement already satisfied: numpy in /usr/local/lib/python3.12/dist-packages (2.0.2)\n",
            "Requirement already satisfied: matplotlib in /usr/local/lib/python3.12/dist-packages (3.10.0)\n",
            "Requirement already satisfied: contourpy>=1.0.1 in /usr/local/lib/python3.12/dist-packages (from matplotlib) (1.3.3)\n",
            "Requirement already satisfied: cycler>=0.10 in /usr/local/lib/python3.12/dist-packages (from matplotlib) (0.12.1)\n",
            "Requirement already satisfied: fonttools>=4.22.0 in /usr/local/lib/python3.12/dist-packages (from matplotlib) (4.60.0)\n",
            "Requirement already satisfied: kiwisolver>=1.3.1 in /usr/local/lib/python3.12/dist-packages (from matplotlib) (1.4.9)\n",
            "Requirement already satisfied: numpy>=1.23 in /usr/local/lib/python3.12/dist-packages (from matplotlib) (2.0.2)\n",
            "Requirement already satisfied: packaging>=20.0 in /usr/local/lib/python3.12/dist-packages (from matplotlib) (25.0)\n",
            "Requirement already satisfied: pillow>=8 in /usr/local/lib/python3.12/dist-packages (from matplotlib) (11.3.0)\n",
            "Requirement already satisfied: pyparsing>=2.3.1 in /usr/local/lib/python3.12/dist-packages (from matplotlib) (3.2.4)\n",
            "Requirement already satisfied: python-dateutil>=2.7 in /usr/local/lib/python3.12/dist-packages (from matplotlib) (2.9.0.post0)\n",
            "Requirement already satisfied: six>=1.5 in /usr/local/lib/python3.12/dist-packages (from python-dateutil>=2.7->matplotlib) (1.17.0)\n",
            "Requirement already satisfied: seaborn in /usr/local/lib/python3.12/dist-packages (0.13.2)\n",
            "Requirement already satisfied: numpy!=1.24.0,>=1.20 in /usr/local/lib/python3.12/dist-packages (from seaborn) (2.0.2)\n",
            "Requirement already satisfied: pandas>=1.2 in /usr/local/lib/python3.12/dist-packages (from seaborn) (2.2.2)\n",
            "Requirement already satisfied: matplotlib!=3.6.1,>=3.4 in /usr/local/lib/python3.12/dist-packages (from seaborn) (3.10.0)\n",
            "Requirement already satisfied: contourpy>=1.0.1 in /usr/local/lib/python3.12/dist-packages (from matplotlib!=3.6.1,>=3.4->seaborn) (1.3.3)\n",
            "Requirement already satisfied: cycler>=0.10 in /usr/local/lib/python3.12/dist-packages (from matplotlib!=3.6.1,>=3.4->seaborn) (0.12.1)\n",
            "Requirement already satisfied: fonttools>=4.22.0 in /usr/local/lib/python3.12/dist-packages (from matplotlib!=3.6.1,>=3.4->seaborn) (4.60.0)\n",
            "Requirement already satisfied: kiwisolver>=1.3.1 in /usr/local/lib/python3.12/dist-packages (from matplotlib!=3.6.1,>=3.4->seaborn) (1.4.9)\n",
            "Requirement already satisfied: packaging>=20.0 in /usr/local/lib/python3.12/dist-packages (from matplotlib!=3.6.1,>=3.4->seaborn) (25.0)\n",
            "Requirement already satisfied: pillow>=8 in /usr/local/lib/python3.12/dist-packages (from matplotlib!=3.6.1,>=3.4->seaborn) (11.3.0)\n",
            "Requirement already satisfied: pyparsing>=2.3.1 in /usr/local/lib/python3.12/dist-packages (from matplotlib!=3.6.1,>=3.4->seaborn) (3.2.4)\n",
            "Requirement already satisfied: python-dateutil>=2.7 in /usr/local/lib/python3.12/dist-packages (from matplotlib!=3.6.1,>=3.4->seaborn) (2.9.0.post0)\n",
            "Requirement already satisfied: pytz>=2020.1 in /usr/local/lib/python3.12/dist-packages (from pandas>=1.2->seaborn) (2025.2)\n",
            "Requirement already satisfied: tzdata>=2022.7 in /usr/local/lib/python3.12/dist-packages (from pandas>=1.2->seaborn) (2025.2)\n",
            "Requirement already satisfied: six>=1.5 in /usr/local/lib/python3.12/dist-packages (from python-dateutil>=2.7->matplotlib!=3.6.1,>=3.4->seaborn) (1.17.0)\n",
            "Requirement already satisfied: scikit-learn in /usr/local/lib/python3.12/dist-packages (1.6.1)\n",
            "Requirement already satisfied: numpy>=1.19.5 in /usr/local/lib/python3.12/dist-packages (from scikit-learn) (2.0.2)\n",
            "Requirement already satisfied: scipy>=1.6.0 in /usr/local/lib/python3.12/dist-packages (from scikit-learn) (1.16.2)\n",
            "Requirement already satisfied: joblib>=1.2.0 in /usr/local/lib/python3.12/dist-packages (from scikit-learn) (1.5.2)\n",
            "Requirement already satisfied: threadpoolctl>=3.1.0 in /usr/local/lib/python3.12/dist-packages (from scikit-learn) (3.6.0)\n",
            "Requirement already satisfied: openpyxl in /usr/local/lib/python3.12/dist-packages (3.1.5)\n",
            "Requirement already satisfied: et-xmlfile in /usr/local/lib/python3.12/dist-packages (from openpyxl) (2.0.0)\n",
            "Requirement already satisfied: pandas in /usr/local/lib/python3.12/dist-packages (2.2.2)\n",
            "Requirement already satisfied: numpy>=1.26.0 in /usr/local/lib/python3.12/dist-packages (from pandas) (2.0.2)\n",
            "Requirement already satisfied: python-dateutil>=2.8.2 in /usr/local/lib/python3.12/dist-packages (from pandas) (2.9.0.post0)\n",
            "Requirement already satisfied: pytz>=2020.1 in /usr/local/lib/python3.12/dist-packages (from pandas) (2025.2)\n",
            "Requirement already satisfied: tzdata>=2022.7 in /usr/local/lib/python3.12/dist-packages (from pandas) (2025.2)\n",
            "Requirement already satisfied: six>=1.5 in /usr/local/lib/python3.12/dist-packages (from python-dateutil>=2.8.2->pandas) (1.17.0)\n"
          ]
        }
      ]
    },
    {
      "cell_type": "markdown",
      "source": [
        "# 1. Loading the Data 📂\n",
        "We’ll start by loading the datasets using our helper functions."
      ],
      "metadata": {
        "id": "C5TXb-zaVJ_7"
      }
    },
    {
      "cell_type": "code",
      "source": [
        "# Add helper folder to sys.path\n",
        "import sys\n",
        "sys.path.append(\"/content/StrangerStats/helper\")\n",
        "\n",
        "# Import and reload\n",
        "import data_loader as dl\n",
        "import analysis as an\n",
        "import viz as vz\n",
        "import pandas as pd\n",
        "import importlib\n",
        "import seaborn as sns\n",
        "import matplotlib.pyplot as plt\n",
        "importlib.reload(dl)\n",
        "\n",
        "# Path to your Excel file\n",
        "DATA_FILE = \"/content/StrangerStats/data/stranger_stats.xlsx\"\n",
        "\n",
        "# Load data\n",
        "monster_df = dl.load_monster_sightings(DATA_FILE)\n",
        "char_df = dl.load_character_stats(DATA_FILE)\n",
        "events_df = dl.load_upside_down_events(DATA_FILE)"
      ],
      "metadata": {
        "id": "i-RA158YVM5U"
      },
      "execution_count": null,
      "outputs": []
    },
    {
      "cell_type": "markdown",
      "source": [
        "# 2. Helpers for Data 🙋\n",
        "Providing some helpers for time conversion, severity conversion, etc."
      ],
      "metadata": {
        "id": "H7mInImsVU05"
      }
    },
    {
      "cell_type": "code",
      "source": [
        "# Converting Time columns to hours for easier merging\n",
        "char_df[\"Hour\"] = char_df[\"Time\"].apply(lambda t: t.hour if pd.notnull(t) else None)\n",
        "char_df = char_df.dropna(subset=[\"Hour\"])\n",
        "char_df[\"Hour\"] = char_df[\"Hour\"].astype(int)\n",
        "\n",
        "events_df[\"Hour\"] = events_df[\"Time\"].apply(lambda t: t.hour if pd.notnull(t) else None)\n",
        "events_df = events_df.dropna(subset=[\"Hour\"])\n",
        "events_df[\"Hour\"] = events_df[\"Hour\"].astype(int)\n",
        "\n",
        "# Map Severity to numeric\n",
        "severity_map = {\"Low\": 1, \"Medium\": 2, \"High\": 3}\n",
        "events_df[\"Severity_Num\"] = events_df[\"Severity\"].map(severity_map)"
      ],
      "metadata": {
        "id": "usi54tL3V2xE"
      },
      "execution_count": null,
      "outputs": []
    },
    {
      "cell_type": "markdown",
      "source": [
        "# 3. The Hawkins Mystery ☎️"
      ],
      "metadata": {
        "id": "SIQijc-nV-L_"
      }
    },
    {
      "cell_type": "markdown",
      "source": [
        "### Challenge 1: Which character is most likely to encounter a monster?\n",
        "\n",
        "**Instructions:**  \n",
        "- Merge the Monster Sightings and Character Stats datasets by `Day` and `Hour`.  \n",
        "- Count how many times each character appears when a monster is present.  \n",
        "- Sort to find the character most likely to encounter a monster.\n",
        "\n",
        "**Hints:**  \n",
        "- Use `pd.merge()` with `on=[\"Day\",\"Hour\"]`.  \n",
        "- Use `groupby()` and `count()` to aggregate.\n"
      ],
      "metadata": {
        "id": "Ye6EoCHaWUKU"
      }
    },
    {
      "cell_type": "code",
      "source": [
        "# Merge events_df (Upside Down) with char_df on Day and Hour\n",
        "merged = pd.merge(events_df, char_df, on=[\"Day\",\"Hour\"], suffixes=(\"_monster\",\"_char\"))\n",
        "\n",
        "# Ensure Monster counts are numeric\n",
        "merged[\"Count\"] = pd.to_numeric(merged[\"Count\"], errors=\"coerce\")\n",
        "\n",
        "# Drop rows with missing counts\n",
        "merged = merged.dropna(subset=[\"Count\"])\n",
        "\n",
        "# Challenge 1 solution: average monsters encountered per character\n",
        "character_encounters_solution = merged.groupby(\"Character\")[\"Count\"].mean().sort_values(ascending=False)\n",
        "\n",
        "print(\"Average monsters encountered per character:\")\n",
        "print(character_encounters_solution)"
      ],
      "metadata": {
        "colab": {
          "base_uri": "https://localhost:8080/"
        },
        "id": "ku1VhSGjWRRS",
        "outputId": "0ebbf9a5-ab71-4869-b835-6e5aa5c37c6f"
      },
      "execution_count": null,
      "outputs": [
        {
          "output_type": "stream",
          "name": "stdout",
          "text": [
            "Average monsters encountered per character:\n",
            "Character\n",
            "Mike      2.400000\n",
            "Will      1.846154\n",
            "Lucas     1.555556\n",
            "Max       1.333333\n",
            "Eleven    1.000000\n",
            "Dustin    0.400000\n",
            "Hopper    0.000000\n",
            "Name: Count, dtype: float64\n"
          ]
        }
      ]
    },
    {
      "cell_type": "markdown",
      "source": [
        "### Challenge 2: Which day/hour is the most dangerous overall?\n",
        "\n",
        "**Instructions:**  \n",
        "- Combine monster counts and Upside Down event severity.  \n",
        "- Create a \"danger score\" (monster count × severity).  \n",
        "- Identify the day/hour with the highest danger score.\n",
        "\n",
        "**Hints:**  \n",
        "- Use `groupby([\"Day\",\"Hour\"]).agg(...)`.  \n",
        "- Sort the results with `sort_values()`."
      ],
      "metadata": {
        "id": "zPufWtkYWbwg"
      }
    },
    {
      "cell_type": "code",
      "source": [
        "# Map severity to numeric\n",
        "severity_map = {\"Low\": 1, \"Medium\": 2, \"High\": 3}\n",
        "events_df[\"Severity_Num\"] = events_df[\"Severity\"].map(severity_map)\n",
        "\n",
        "# Drop rows with missing severity\n",
        "events_df = events_df.dropna(subset=[\"Severity_Num\"])\n",
        "\n",
        "# Aggregate monster counts by Day from monster_df\n",
        "monster_counts_by_day = monster_df.groupby(\"Day\")[\"Count\"].sum().reset_index()\n",
        "monster_counts_by_day.rename(columns={\"Count\": \"Monster_Count\"}, inplace=True)\n",
        "\n",
        "# Merge with events_df on Day\n",
        "danger_df = events_df.merge(monster_counts_by_day, on=\"Day\")\n",
        "\n",
        "# Compute danger score = Monster_Count * Severity_Num\n",
        "danger_df[\"Danger_Score\"] = danger_df[\"Monster_Count\"] * danger_df[\"Severity_Num\"]\n",
        "\n",
        "# Group by Day and Time to calculate average danger score\n",
        "avg_danger_summary = danger_df.groupby([\"Day\", \"Time\"]).agg({\"Danger_Score\": \"mean\"}).sort_values(\"Danger_Score\", ascending=False)\n",
        "\n",
        "print(\"Top average danger day/hour:\")\n",
        "print(avg_danger_summary.head(10))"
      ],
      "metadata": {
        "id": "mqmp9yhNWltf",
        "colab": {
          "base_uri": "https://localhost:8080/"
        },
        "outputId": "6f46e07f-d126-4d8e-ff7b-49d2ac255a1f"
      },
      "execution_count": null,
      "outputs": [
        {
          "output_type": "stream",
          "name": "stdout",
          "text": [
            "Top average danger day/hour:\n",
            "                   Danger_Score\n",
            "Day      Time                  \n",
            "Thursday 19:46:00         150.0\n",
            "         12:58:00         150.0\n",
            "         09:02:00         150.0\n",
            "         19:08:00         150.0\n",
            "Saturday 13:05:00         105.0\n",
            "         17:29:00         105.0\n",
            "         13:32:00         105.0\n",
            "Thursday 17:14:00         100.0\n",
            "         12:15:00         100.0\n",
            "         19:33:00         100.0\n"
          ]
        }
      ]
    },
    {
      "cell_type": "markdown",
      "source": [
        "### Challenge 3: Does monster count correlate with Upside Down severity?\n",
        "\n",
        "**Instructions:**  \n",
        "- Measure correlation between monster counts and severity.\n",
        "- Which monsters tend to cause more severe events?\n",
        "\n",
        "**Hints:**  \n",
        "- Use `corr()` to compute Pearson correlation.  \n",
        "- Filter datasets if needed."
      ],
      "metadata": {
        "id": "h_W8-YNCWhrr"
      }
    },
    {
      "cell_type": "code",
      "source": [
        "# Step 1: Clean column names\n",
        "monster_df.columns = monster_df.columns.str.strip()\n",
        "events_df.columns = events_df.columns.str.strip()\n",
        "\n",
        "# Step 2: Map severity to numeric\n",
        "severity_map = {\"Low\": 1, \"Medium\": 2, \"High\": 3}\n",
        "events_df[\"Severity_Num\"] = events_df[\"Severity\"].map(severity_map)\n",
        "events_df = events_df.dropna(subset=[\"Severity_Num\"])\n",
        "\n",
        "# Step 3: Rename monster count to avoid collisions\n",
        "monster_df = monster_df.rename(columns={\"Count\": \"Monster_Count\"})\n",
        "\n",
        "# Step 4: Aggregate monster counts by Day (or any other key if needed)\n",
        "daily_monster_counts = monster_df.groupby(\"Day\")[\"Monster_Count\"].sum().reset_index()\n",
        "\n",
        "# Merge with events_df\n",
        "merged = pd.merge(events_df, daily_monster_counts, on=\"Day\")\n",
        "\n",
        "# Compute Pearson correlation\n",
        "correlation = merged[\"Monster_Count\"].corr(merged[\"Severity_Num\"])\n",
        "print(f\"Pearson correlation between monster count and Upside Down severity: {correlation:.2f}\")"
      ],
      "metadata": {
        "id": "-qWW8xJ6Xdqy",
        "colab": {
          "base_uri": "https://localhost:8080/"
        },
        "outputId": "e0e9d9ef-5652-4d27-f9e1-a4c50a1f11fb"
      },
      "execution_count": null,
      "outputs": [
        {
          "output_type": "stream",
          "name": "stdout",
          "text": [
            "Pearson correlation between monster count and Upside Down severity: 0.02\n"
          ]
        }
      ]
    },
    {
      "cell_type": "markdown",
      "source": [
        "### Challenge 4: Which monster is most likely to appear next?\n",
        "\n",
        "**Instructions:**  \n",
        "- Calculate probability of each monster appearing next.\n",
        "- Use historical monster sightings.\n",
        "\n",
        "**Hints:**  \n",
        "- Use `value_counts(normalize=True)` to get probabilities."
      ],
      "metadata": {
        "id": "0TZOu-qgXeRC"
      }
    },
    {
      "cell_type": "code",
      "source": [
        "monster_probs_solution = monster_df[\"Monster\"].value_counts(normalize=True).round(2)\n",
        "print(monster_probs_solution)"
      ],
      "metadata": {
        "id": "doir-01eXxsB",
        "colab": {
          "base_uri": "https://localhost:8080/"
        },
        "outputId": "6e383faf-52f4-4556-ce8d-c272e02eed0c"
      },
      "execution_count": null,
      "outputs": [
        {
          "output_type": "stream",
          "name": "stdout",
          "text": [
            "Monster\n",
            "Demodog        0.37\n",
            "Demogorgon     0.35\n",
            "Mind Flayer    0.28\n",
            "Name: proportion, dtype: float64\n"
          ]
        }
      ]
    },
    {
      "cell_type": "markdown",
      "source": [
        "### Challenge 5: Probability of High severity for next monster event.\n",
        "\n",
        "**Instructions:**  \n",
        "- Calculate `P(High severity | Monster).`\n",
        "- Optional: filter by day or location.\n",
        "\n",
        "**Hints:**  \n",
        "- Use g`roupby(\"Monster\")[\"Severity\"].apply(lambda x: (x==\"High\").mean()).`\n",
        "- Round probabilities for readability."
      ],
      "metadata": {
        "id": "gYXqLlvoXzcg"
      }
    },
    {
      "cell_type": "code",
      "source": [
        "# Map severity to numeric (optional)\n",
        "severity_map = {\"Low\": 1, \"Medium\": 2, \"High\": 3}\n",
        "events_df[\"Severity_Num\"] = events_df[\"Severity\"].map(severity_map)\n",
        "\n",
        "# Drop rows with missing severity\n",
        "events_df = events_df.dropna(subset=[\"Severity_Num\"])\n",
        "\n",
        "# Probability that the next event is High severity by monster\n",
        "prob_high_by_monster = events_df.groupby(\"Monster\")[\"Severity\"].apply(\n",
        "    lambda x: (x.eq(\"High\").sum() + 1) / (len(x) + 2)\n",
        ")\n",
        "\n",
        "print(\"Probability of High severity for next Upside Down event by monster:\")\n",
        "print(prob_high_by_monster)"
      ],
      "metadata": {
        "id": "fxNwTYVWYPjf",
        "colab": {
          "base_uri": "https://localhost:8080/"
        },
        "outputId": "1e9829ef-1472-4bfe-a78a-ae3c684d5afa"
      },
      "execution_count": null,
      "outputs": [
        {
          "output_type": "stream",
          "name": "stdout",
          "text": [
            "Probability of High severity for next Upside Down event by monster:\n",
            "Monster\n",
            "Demodog        0.041667\n",
            "Demogorgon     0.960000\n",
            "Mind Flayer    0.041667\n",
            "Name: Severity, dtype: float64\n"
          ]
        }
      ]
    },
    {
      "cell_type": "markdown",
      "source": [
        "### Challenge 6: Character activity vs monster peaks\n",
        "\n",
        "**Instructions:**  \n",
        "- Merge datasets by hour.\n",
        "- Create a heatmap showing which characters are active when monsters appear.\n",
        "\n",
        "**Hints:**  \n",
        "- Use `groupby([\"Hour\",\"Character\"])[\"Monster\"].count().unstack(fill_value=0).`\n",
        "- Use `sns.heatmap()` for visualization."
      ],
      "metadata": {
        "id": "9vm8IAy2YP9x"
      }
    },
    {
      "cell_type": "code",
      "source": [
        "heat_df_solution = pd.merge(events_df, char_df, on=\"Hour\", suffixes=(\"_monster\",\"_char\"))\n",
        "activity_heatmap_solution = heat_df_solution.groupby([\"Hour\",\"Character\"])[\"Monster\"].count().unstack(fill_value=0)\n",
        "sns.heatmap(activity_heatmap_solution, cmap=\"Reds\", annot=True, fmt=\"d\")\n",
        "plt.title(\"Character activity vs monster sightings by hour\")\n",
        "plt.show()"
      ],
      "metadata": {
        "id": "DO0oyzOyYiFL",
        "colab": {
          "base_uri": "https://localhost:8080/",
          "height": 472
        },
        "outputId": "e3a5c7a7-9ec2-492e-abec-6490eca1ce33"
      },
      "execution_count": null,
      "outputs": [
        {
          "output_type": "display_data",
          "data": {
            "text/plain": [
              "<Figure size 640x480 with 2 Axes>"
            ],
            "image/png": "[encoded data removed]"
          },
          "metadata": {}
        }
      ]
    }
  ]
}